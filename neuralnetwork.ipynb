{
 "cells": [
  {
   "cell_type": "code",
   "execution_count": 51,
   "metadata": {},
   "outputs": [],
   "source": [
    "import torch\n",
    "from torchvision import datasets, transforms\n",
    "import numpy as np\n",
    "from sklearn.preprocessing import OneHotEncoder"
   ]
  },
  {
   "cell_type": "code",
   "execution_count": 52,
   "metadata": {},
   "outputs": [],
   "source": [
    "mnist_trainset = datasets.MNIST(root='./data', train=True, download=True, transform=transforms.Compose([\n",
    "                                                              transforms.ToTensor()#convert image to PyTorch tensor\n",
    "                                                          ]))\n",
    "mnist_testset = datasets.MNIST(root='./data', train=False, download=True, transform=transforms.Compose([\n",
    "                                                              transforms.ToTensor()#convert image to PyTorch tensor\n",
    "                                                          ]))\n",
    "batch_size = 32"
   ]
  },
  {
   "cell_type": "code",
   "execution_count": 53,
   "metadata": {},
   "outputs": [],
   "source": [
    "trainloader = torch.utils.data.DataLoader(mnist_trainset, batch_size=batch_size, shuffle=True)\n",
    "testloader = torch.utils.data.DataLoader(mnist_testset, batch_size=batch_size, shuffle=True)"
   ]
  },
  {
   "cell_type": "code",
   "execution_count": 54,
   "metadata": {},
   "outputs": [
    {
     "name": "stdout",
     "output_type": "stream",
     "text": [
      "torch.Size([32, 784])\n",
      "torch.Size([32, 1, 28, 28])\n",
      "tensor([5, 6, 0, 1, 1, 6, 7, 5, 8, 8, 7, 8, 5, 5, 7, 3, 5, 8, 7, 7, 3, 7, 7, 4,\n",
      "        1, 4, 7, 7, 7, 2, 8, 4])\n"
     ]
    }
   ],
   "source": [
    "for data, label in trainloader:\n",
    "    print(torch.flatten(data,1).shape)\n",
    "    print(data.shape)\n",
    "    print(label)\n",
    "    break"
   ]
  },
  {
   "cell_type": "code",
   "execution_count": 55,
   "metadata": {},
   "outputs": [],
   "source": [
    "def sigmoid(z):\n",
    "    return 1.0 / (1.0 + np.exp(-z))\n",
    "\n",
    "def sigmoid_derivative(z):\n",
    "    temp = sigmoid(z)\n",
    "    return temp * (1.0 - temp)\n",
    "\n",
    "def softmax(z):\n",
    "    exps = np.exp(z)\n",
    "    return exps / np.sum(exps)\n",
    "\n",
    "def compute_loss(y, y_hat):\n",
    "    # print(y[0])\n",
    "    # print(np.log(y_hat)[0])\n",
    "    # print(-y * np.log(y_hat))\n",
    "    return -(np.sum(y * np.log(y_hat)))\n",
    "\n",
    "def forward(x,w1,w2):\n",
    "    z1 = np.dot(x,w1.T)\n",
    "    #print(w1.shape,x.T.shape, z1.shape)\n",
    "    h1 = sigmoid(z1)\n",
    "    z2 = np.dot(h1,w2.T)\n",
    "    #print(w2.shape,h1.shape, z2.shape)\n",
    "    return softmax(z2), h1, z1\n",
    "\n",
    "def backward(x, y_hat, y, h1, z1, w2):\n",
    "    dz2 = y_hat - y\n",
    "    dw1 = []\n",
    "    dw2 = []\n",
    "    for i in range(batch_size):\n",
    "        #print((dz2[i,]).reshape(-1,1).shape,(h1[i,]).reshape(-1,1).shape)\n",
    "        dw2_temp = np.dot(dz2[i,].reshape(-1,1), (h1[i,]).reshape(-1,1).T)\n",
    "        #print(dw2_temp)\n",
    "        #print(dw2_temp.shape)\n",
    "        #print(dz2[i,].reshape(1,-1).shape,w2.shape)\n",
    "        dh1 = np.dot(dz2[i,].reshape(1,-1), w2).reshape(-1)\n",
    "        #print(dh1.shape)\n",
    "        #print(dh1.shape,h1[i,].shape)\n",
    "        dz1 = dh1 * sigmoid_derivative(z1[i,])\n",
    "        #print(dz1)\n",
    "        #print(x)\n",
    "        #print(dz1.shape,x[i,].shape)\n",
    "        dw1_temp = np.outer(dz1,x[i,])\n",
    "        #print(dw1_temp)\n",
    "        dw1.append(dw1_temp)\n",
    "        dw2.append(dw2_temp)\n",
    "        break\n",
    "    dw1 = np.array(dw1)\n",
    "    dw2 = np.array(dw2)\n",
    "    return dw1, dw2"
   ]
  },
  {
   "cell_type": "code",
   "execution_count": 59,
   "metadata": {},
   "outputs": [
    {
     "name": "stdout",
     "output_type": "stream",
     "text": [
      "Avg loss for epoch 0 is: 431.3250413214755\n",
      "Avg loss for epoch 1 is: 422.1858082980396\n",
      "Avg loss for epoch 2 is: 413.00103924225016\n",
      "Avg loss for epoch 3 is: 404.18042594699324\n",
      "Avg loss for epoch 4 is: 395.2062644250191\n",
      "Avg loss for epoch 5 is: 388.51183202695006\n",
      "Avg loss for epoch 6 is: 385.2095267510393\n",
      "Avg loss for epoch 7 is: 379.4428730749758\n",
      "Avg loss for epoch 8 is: 376.26369060775335\n",
      "Avg loss for epoch 9 is: 377.4769220395761\n"
     ]
    }
   ],
   "source": [
    "n_epochs = 10\n",
    "lr = 0.0001\n",
    "d = 784\n",
    "d1 = 300\n",
    "k = 10\n",
    "w1 = np.random.uniform(-1, 1, (d1, d))\n",
    "w2 = np.random.uniform(-1, 1, (k, d1))\n",
    "# minibatch SGD\n",
    "for epoch in range(n_epochs):\n",
    "    loss = 0\n",
    "    for data, label in trainloader:\n",
    "        # flattern the data\n",
    "        data = torch.flatten(data,1)\n",
    "        # One-hot encode the labels\n",
    "        categories = [str(i) for i in range(10)]\n",
    "        encoder = OneHotEncoder(sparse_output=False,categories=[categories])\n",
    "        y_onehot = encoder.fit_transform(np.array(label).reshape(-1, 1))\n",
    "        # Forward pass\n",
    "        y_hat, h1, z1 = forward(data,w1,w2)\n",
    "        # Compute loss\n",
    "        loss += compute_loss(y_onehot,y_hat)\n",
    "        # Backward pass\n",
    "        dw1, dw2 = backward(data, y_hat, y_onehot, h1, z1, w2)\n",
    "        # print(dw1.shape,dw2.shape,w1.shape,w2.shape)\n",
    "        # print(np.sum(dw1,axis = 0).shape)\n",
    "        w1 = w1 - lr/len(dw1)*np.sum(dw1,axis = 0)\n",
    "        w2 = w2 - lr/len(dw2)*np.sum(dw2,axis = 0) \n",
    "    print(\"Avg loss for epoch\", epoch, \"is:\", loss/len(trainloader))"
   ]
  },
  {
   "cell_type": "code",
   "execution_count": null,
   "metadata": {},
   "outputs": [],
   "source": [
    "#Test\n",
    "for data, label in testloader:\n",
    "    # flattern the data\n",
    "    data = torch.flatten(data,1)\n",
    "    y_hat, h1, z1 = forward(data,w1,w2)  "
   ]
  },
  {
   "cell_type": "code",
   "execution_count": null,
   "metadata": {},
   "outputs": [
    {
     "name": "stdout",
     "output_type": "stream",
     "text": [
      "Epoch [1/20], Test error: 26.8600\n",
      "Epoch [2/20], Test error: 14.6600\n",
      "Epoch [3/20], Test error: 12.4600\n",
      "Epoch [4/20], Test error: 11.1700\n",
      "Epoch [5/20], Test error: 10.5500\n",
      "Epoch [6/20], Test error: 10.0600\n",
      "Epoch [7/20], Test error: 9.9900\n",
      "Epoch [8/20], Test error: 9.6000\n",
      "Epoch [9/20], Test error: 9.2100\n",
      "Epoch [10/20], Test error: 9.1300\n",
      "Epoch [11/20], Test error: 8.9700\n",
      "Epoch [12/20], Test error: 8.6900\n",
      "Epoch [13/20], Test error: 8.5100\n",
      "Epoch [14/20], Test error: 8.3700\n",
      "Epoch [15/20], Test error: 8.3100\n",
      "Epoch [16/20], Test error: 8.2200\n",
      "Epoch [17/20], Test error: 8.1300\n",
      "Epoch [18/20], Test error: 8.0200\n",
      "Epoch [19/20], Test error: 8.2900\n",
      "Epoch [20/20], Test error: 7.9600\n"
     ]
    }
   ],
   "source": [
    "#Q3\n",
    "import torch\n",
    "import torch.nn as nn\n",
    "import torch.optim as optim\n",
    "import torch.nn.init as init\n",
    "\n",
    "class FeedForwardNN(nn.Module):\n",
    "    def __init__(self, input_size, hidden_size, output_size,initial_weight):\n",
    "        super(FeedForwardNN, self).__init__()\n",
    "        self.hidden = nn.Linear(input_size, hidden_size)\n",
    "        self.activation= nn.Sigmoid()\n",
    "        self.output = nn.Linear(hidden_size, output_size)\n",
    "        if initial_weight == 0:\n",
    "            init.zeros_(self.fc1.weight)\n",
    "            init.zeros_(self.fc2.weight)\n",
    "        elif initial_weight == 'uniform':\n",
    "            init.uniform_(self.fc1.weight, a=-1, b=1)\n",
    "            init.uniform_(self.fc2.weight, a=-1, b=1)\n",
    "    \n",
    "    def forward(self, x):\n",
    "        x = self.hidden(x)\n",
    "        x = self.activation(x)\n",
    "        x = self.output(x)\n",
    "        return x\n",
    "\n",
    "# Hyperparameters\n",
    "input_size = 784\n",
    "hidden_size = 300\n",
    "output_size = 10\n",
    "\n",
    "model = FeedForwardNN(input_size, hidden_size, output_size,None)\n",
    "criterion = nn.CrossEntropyLoss()\n",
    "optimizer = optim.SGD(model.parameters(), lr=0.01)\n",
    "\n",
    "# Training loop\n",
    "num_epochs = 20\n",
    "test_errors = []\n",
    "epoch_list = []\n",
    "for epoch in range(num_epochs):\n",
    "    # Forward pass\n",
    "    total_loss = 0\n",
    "    for data, label in trainloader:\n",
    "        data = torch.flatten(data,1)\n",
    "        outputs = model(data)\n",
    "        loss = criterion(outputs, label)\n",
    "        optimizer.zero_grad()\n",
    "        loss.backward()\n",
    "        optimizer.step()\n",
    "        total_loss += loss.item()\n",
    "    avg_loss = total_loss/len(trainloader)\n",
    "    #print(f'Epoch [{epoch+1}/{num_epochs}], Loss: {avg_loss:.4f}')\n",
    "    \n",
    "    total = 0\n",
    "    correct = 0\n",
    "    with torch.no_grad():\n",
    "        for data, label in testloader:\n",
    "            data = torch.flatten(data,1)\n",
    "            outputs = model(data)\n",
    "            _, predicted = torch.max(outputs.data,1)\n",
    "            total += label.size(0)\n",
    "            correct += (predicted == label).sum().item()\n",
    "    accuracy = 100*correct/total\n",
    "    test_error = 100-accuracy\n",
    "    test_errors.append(test_error)\n",
    "    epoch_list.append(epoch+1)\n",
    "    print(f'Epoch [{epoch+1}/{num_epochs}], Test error: {test_error:.4f}')"
   ]
  },
  {
   "cell_type": "code",
   "execution_count": null,
   "metadata": {},
   "outputs": [
    {
     "data": {
      "text/plain": [
       "Text(0.5, 1.0, 'learning curve for the NN')"
      ]
     },
     "execution_count": 503,
     "metadata": {},
     "output_type": "execute_result"
    },
    {
     "data": {
      "image/png": "[encoded data removed]",
      "text/plain": [
       "<Figure size 640x480 with 1 Axes>"
      ]
     },
     "metadata": {},
     "output_type": "display_data"
    }
   ],
   "source": [
    "import pandas as pd\n",
    "accuracy = [1-x  for x in test_errors]\n",
    "lc = pd.DataFrame(\n",
    "    {'epoch': epoch_list,\n",
    "     'accuracy': accuracy\n",
    "    })\n",
    "import matplotlib.pyplot as plt\n",
    "plt.plot(lc.epoch, lc.accuracy)\n",
    "plt.xlabel('Number of epoches')\n",
    "plt.ylabel('Test accuracy')\n",
    "plt.title('learning curve for the NN')"
   ]
  },
  {
   "cell_type": "code",
   "execution_count": null,
   "metadata": {},
   "outputs": [
    {
     "name": "stdout",
     "output_type": "stream",
     "text": [
      "Epoch [1/20], Test error: 90.2000\n",
      "Epoch [2/20], Test error: 88.6500\n",
      "Epoch [3/20], Test error: 89.6800\n",
      "Epoch [4/20], Test error: 88.6500\n",
      "Epoch [5/20], Test error: 73.3900\n",
      "Epoch [6/20], Test error: 66.4900\n",
      "Epoch [7/20], Test error: 53.2200\n",
      "Epoch [8/20], Test error: 37.7900\n",
      "Epoch [9/20], Test error: 28.5700\n",
      "Epoch [10/20], Test error: 25.0900\n",
      "Epoch [11/20], Test error: 21.4500\n",
      "Epoch [12/20], Test error: 17.9600\n",
      "Epoch [13/20], Test error: 15.9100\n",
      "Epoch [14/20], Test error: 14.1500\n",
      "Epoch [15/20], Test error: 12.8900\n",
      "Epoch [16/20], Test error: 11.9100\n",
      "Epoch [17/20], Test error: 11.3400\n",
      "Epoch [18/20], Test error: 11.0100\n",
      "Epoch [19/20], Test error: 10.6500\n",
      "Epoch [20/20], Test error: 10.3700\n"
     ]
    }
   ],
   "source": [
    "#Q4\n",
    "import torch\n",
    "import torch.nn as nn\n",
    "import torch.optim as optim\n",
    "import torch.nn.init as init\n",
    "\n",
    "class FeedForwardNN(nn.Module):\n",
    "    def __init__(self, input_size, hidden_size, output_size,initial_weight):\n",
    "        super(FeedForwardNN, self).__init__()\n",
    "        self.hidden = nn.Linear(input_size, hidden_size)\n",
    "        self.activation= nn.Sigmoid()\n",
    "        self.output = nn.Linear(hidden_size, output_size)\n",
    "        if initial_weight == 0:\n",
    "            init.zeros_(self.hidden.weight)\n",
    "            init.zeros_(self.output.weight)\n",
    "        elif initial_weight == 'uniform':\n",
    "            init.uniform_(self.hidden.weight, a=-1, b=1)\n",
    "            init.uniform_(self.output.weight, a=-1, b=1)\n",
    "    \n",
    "    def forward(self, x):\n",
    "        x = self.hidden(x)\n",
    "        x = self.activation(x)\n",
    "        x = self.output(x)\n",
    "        return x\n",
    "\n",
    "# Hyperparameters\n",
    "input_size = 784\n",
    "hidden_size = 300\n",
    "output_size = 10\n",
    "\n",
    "model = FeedForwardNN(input_size, hidden_size, output_size,0)\n",
    "criterion = nn.CrossEntropyLoss()\n",
    "optimizer = optim.SGD(model.parameters(), lr=0.01)\n",
    "\n",
    "# Training loop\n",
    "num_epochs = 20\n",
    "test_errors = []\n",
    "epoch_list = []\n",
    "for epoch in range(num_epochs):\n",
    "    # Forward pass\n",
    "    total_loss = 0\n",
    "    for data, label in trainloader:\n",
    "        data = torch.flatten(data,1)\n",
    "        outputs = model(data)\n",
    "        loss = criterion(outputs, label)\n",
    "        optimizer.zero_grad()\n",
    "        loss.backward()\n",
    "        optimizer.step()\n",
    "        total_loss += loss.item()\n",
    "    avg_loss = total_loss/len(trainloader)\n",
    "    #print(f'Epoch [{epoch+1}/{num_epochs}], Loss: {avg_loss:.4f}')\n",
    "    \n",
    "    total = 0\n",
    "    correct = 0\n",
    "    with torch.no_grad():\n",
    "        for data, label in testloader:\n",
    "            data = torch.flatten(data,1)\n",
    "            outputs = model(data)\n",
    "            _, predicted = torch.max(outputs.data,1)\n",
    "            total += label.size(0)\n",
    "            correct += (predicted == label).sum().item()\n",
    "    accuracy = 100*correct/total\n",
    "    test_error = 100-accuracy\n",
    "    test_errors.append(test_error)\n",
    "    epoch_list.append(epoch+1)\n",
    "    print(f'Epoch [{epoch+1}/{num_epochs}], Test error: {test_error:.4f}')"
   ]
  },
  {
   "cell_type": "code",
   "execution_count": null,
   "metadata": {},
   "outputs": [],
   "source": [
    "accuracy = [1-x  for x in test_errors]\n",
    "lc_zero = pd.DataFrame(\n",
    "    {'epoch': epoch_list,\n",
    "     'accuracy': accuracy\n",
    "    })"
   ]
  },
  {
   "cell_type": "code",
   "execution_count": null,
   "metadata": {},
   "outputs": [
    {
     "data": {
      "text/plain": [
       "Text(0.5, 1.0, 'learning curve for the NN')"
      ]
     },
     "execution_count": 490,
     "metadata": {},
     "output_type": "execute_result"
    },
    {
     "data": {
      "image/png": "[encoded data removed]",
      "text/plain": [
       "<Figure size 640x480 with 1 Axes>"
      ]
     },
     "metadata": {},
     "output_type": "display_data"
    }
   ],
   "source": [
    "plt.plot(lc_zero.epoch, lc_zero.accuracy)\n",
    "plt.xlabel('Number of epoches')\n",
    "plt.ylabel('Test accuracy')\n",
    "plt.title('learning curve for the NN')"
   ]
  },
  {
   "cell_type": "code",
   "execution_count": null,
   "metadata": {},
   "outputs": [
    {
     "name": "stdout",
     "output_type": "stream",
     "text": [
      "Epoch [1/20], Test error: 23.7100\n",
      "Epoch [2/20], Test error: 17.6700\n",
      "Epoch [3/20], Test error: 15.0700\n",
      "Epoch [4/20], Test error: 13.6200\n",
      "Epoch [5/20], Test error: 12.7300\n",
      "Epoch [6/20], Test error: 11.8700\n",
      "Epoch [7/20], Test error: 11.2900\n",
      "Epoch [8/20], Test error: 10.8000\n",
      "Epoch [9/20], Test error: 10.2800\n",
      "Epoch [10/20], Test error: 10.0400\n",
      "Epoch [11/20], Test error: 9.8400\n",
      "Epoch [12/20], Test error: 9.4900\n",
      "Epoch [13/20], Test error: 9.3000\n",
      "Epoch [14/20], Test error: 9.1300\n",
      "Epoch [15/20], Test error: 8.9400\n",
      "Epoch [16/20], Test error: 8.7500\n",
      "Epoch [17/20], Test error: 8.6000\n",
      "Epoch [18/20], Test error: 8.2700\n",
      "Epoch [19/20], Test error: 8.2800\n",
      "Epoch [20/20], Test error: 8.0800\n"
     ]
    }
   ],
   "source": [
    "import torch\n",
    "import torch.nn as nn\n",
    "import torch.optim as optim\n",
    "import torch.nn.init as init\n",
    "\n",
    "class FeedForwardNN(nn.Module):\n",
    "    def __init__(self, input_size, hidden_size, output_size,initial_weight):\n",
    "        super(FeedForwardNN, self).__init__()\n",
    "        self.hidden = nn.Linear(input_size, hidden_size)\n",
    "        self.activation= nn.Sigmoid()\n",
    "        self.output = nn.Linear(hidden_size, output_size)\n",
    "        if initial_weight == 0:\n",
    "            init.zeros_(self.hidden.weight)\n",
    "            init.zeros_(self.output.weight)\n",
    "        elif initial_weight == 'uniform':\n",
    "            init.uniform_(self.hidden.weight, a=-1, b=1)\n",
    "            init.uniform_(self.output.weight, a=-1, b=1)\n",
    "    \n",
    "    def forward(self, x):\n",
    "        x = self.hidden(x)\n",
    "        x = self.activation(x)\n",
    "        x = self.output(x)\n",
    "        return x\n",
    "\n",
    "# Hyperparameters\n",
    "input_size = 784\n",
    "hidden_size = 300\n",
    "output_size = 10\n",
    "\n",
    "model = FeedForwardNN(input_size, hidden_size, output_size,'uniform')\n",
    "criterion = nn.CrossEntropyLoss()\n",
    "optimizer = optim.SGD(model.parameters(), lr=0.01)\n",
    "\n",
    "# Training loop\n",
    "num_epochs = 20\n",
    "test_errors = []\n",
    "epoch_list = []\n",
    "for epoch in range(num_epochs):\n",
    "    # Forward pass\n",
    "    total_loss = 0\n",
    "    for data, label in trainloader:\n",
    "        data = torch.flatten(data,1)\n",
    "        outputs = model(data)\n",
    "        loss = criterion(outputs, label)\n",
    "        optimizer.zero_grad()\n",
    "        loss.backward()\n",
    "        optimizer.step()\n",
    "        total_loss += loss.item()\n",
    "    avg_loss = total_loss/len(trainloader)\n",
    "    #print(f'Epoch [{epoch+1}/{num_epochs}], Loss: {avg_loss:.4f}')\n",
    "    \n",
    "    total = 0\n",
    "    correct = 0\n",
    "    with torch.no_grad():\n",
    "        for data, label in testloader:\n",
    "            data = torch.flatten(data,1)\n",
    "            outputs = model(data)\n",
    "            _, predicted = torch.max(outputs.data,1)\n",
    "            total += label.size(0)\n",
    "            correct += (predicted == label).sum().item()\n",
    "    accuracy = 100*correct/total\n",
    "    test_error = 100-accuracy\n",
    "    test_errors.append(test_error)\n",
    "    epoch_list.append(epoch+1)\n",
    "    print(f'Epoch [{epoch+1}/{num_epochs}], Test error: {test_error:.4f}')"
   ]
  },
  {
   "cell_type": "code",
   "execution_count": null,
   "metadata": {},
   "outputs": [],
   "source": [
    "import pandas as pd\n",
    "accuracy = [1-x  for x in test_errors]\n",
    "lc_uniform = pd.DataFrame(\n",
    "    {'epoch': epoch_list,\n",
    "     'accuracy': accuracy\n",
    "    })"
   ]
  },
  {
   "cell_type": "code",
   "execution_count": null,
   "metadata": {},
   "outputs": [
    {
     "data": {
      "text/plain": [
       "Text(0.5, 1.0, 'learning curve for the NN')"
      ]
     },
     "execution_count": 45,
     "metadata": {},
     "output_type": "execute_result"
    },
    {
     "data": {
      "image/png": "[encoded data removed]",
      "text/plain": [
       "<Figure size 640x480 with 1 Axes>"
      ]
     },
     "metadata": {},
     "output_type": "display_data"
    }
   ],
   "source": [
    "import matplotlib.pyplot as plt\n",
    "plt.plot(lc_uniform.epoch, lc_uniform.accuracy)\n",
    "plt.xlabel('Number of epoches')\n",
    "plt.ylabel('Test accuracy')\n",
    "plt.title('learning curve for the NN')"
   ]
  }
 ],
 "metadata": {
  "kernelspec": {
   "display_name": "Python 3",
   "language": "python",
   "name": "python3"
  },
  "language_info": {
   "codemirror_mode": {
    "name": "ipython",
    "version": 3
   },
   "file_extension": ".py",
   "mimetype": "text/x-python",
   "name": "python",
   "nbconvert_exporter": "python",
   "pygments_lexer": "ipython3",
   "version": "3.9.6"
  }
 },
 "nbformat": 4,
 "nbformat_minor": 2
}
