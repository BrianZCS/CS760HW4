{
 "cells": [
  {
   "cell_type": "code",
   "execution_count": 251,
   "metadata": {},
   "outputs": [],
   "source": [
    "import string\n",
    "import numpy as np"
   ]
  },
  {
   "cell_type": "code",
   "execution_count": 252,
   "metadata": {},
   "outputs": [],
   "source": [
    "path = \"./languageID/\"\n",
    "files = [\"e{}.txt\".format(i) for i in range(10)] + [\"j{}.txt\".format(i) for i in range(10)] + [\"s{}.txt\".format(i) for i in range(10)]\n",
    "\n",
    "english  = {char: 0 for char in string.ascii_lowercase + ' '}\n",
    "spanish  = {char: 0 for char in string.ascii_lowercase + ' '}\n",
    "japanese  = {char: 0 for char in string.ascii_lowercase + ' '}\n",
    "for file in files: \n",
    "    file_path = f\"{path}{file}\"\n",
    "    with open(file_path) as f:\n",
    "        for line in f:\n",
    "            for character in line:\n",
    "                if(character in list(english.keys())):\n",
    "                    if(file.startswith('e')):\n",
    "                        english[character] = english[character] + 1\n",
    "                    elif(file.startswith('s')):\n",
    "                        spanish[character] = spanish[character] + 1\n",
    "                    else:\n",
    "                        japanese[character] = japanese[character] + 1\n",
    "            "
   ]
  },
  {
   "cell_type": "code",
   "execution_count": 253,
   "metadata": {},
   "outputs": [
    {
     "name": "stdout",
     "output_type": "stream",
     "text": [
      "P(y=e) =  0.3333333333333333\n",
      "P(y=j) =  0.3333333333333333\n",
      "P(y=s) =  0.3333333333333333\n"
     ]
    }
   ],
   "source": [
    "#q1\n",
    "alpha = 0.5\n",
    "n = 10\n",
    "e_prior = np.log((n+alpha)/(3*n+3*alpha))\n",
    "j_prior = np.log((n+alpha)/(3*n+3*alpha))\n",
    "s_prior = np.log((n+alpha)/(3*n+3*alpha))\n",
    "print(\"P(y=e) = \", np.exp(e_prior))\n",
    "print(\"P(y=j) = \", np.exp(j_prior))\n",
    "print(\"P(y=s) = \", np.exp(s_prior))"
   ]
  },
  {
   "cell_type": "code",
   "execution_count": 254,
   "metadata": {},
   "outputs": [
    {
     "name": "stdout",
     "output_type": "stream",
     "text": [
      "The prior of character a in English is 0.0601685114819098\n",
      "The prior of character b in English is 0.011134974392863043\n",
      "The prior of character c in English is 0.021509995043779945\n",
      "The prior of character d in English is 0.021972575582355852\n",
      "The prior of character e in English is 0.10536923839418467\n",
      "The prior of character f in English is 0.018932760614571286\n",
      "The prior of character g in English is 0.017478936064761277\n",
      "The prior of character h in English is 0.04721625640178424\n",
      "The prior of character i in English is 0.05541054022798612\n",
      "The prior of character j in English is 0.0014207830827688743\n",
      "The prior of character k in English is 0.00373368577564844\n",
      "The prior of character l in English is 0.028977366595076822\n",
      "The prior of character m in English is 0.020518751032545846\n",
      "The prior of character n in English is 0.057921691723112505\n",
      "The prior of character o in English is 0.06446390219725757\n",
      "The prior of character p in English is 0.01675202378985626\n",
      "The prior of character q in English is 0.0005617049396993228\n",
      "The prior of character r in English is 0.05382454981001157\n",
      "The prior of character s in English is 0.06618205848339667\n",
      "The prior of character t in English is 0.08012555757475631\n",
      "The prior of character u in English is 0.026664463902197257\n",
      "The prior of character v in English is 0.00928465223855939\n",
      "The prior of character w in English is 0.015496448042293076\n",
      "The prior of character x in English is 0.0011564513464397824\n",
      "The prior of character y in English is 0.013844374690236244\n",
      "The prior of character z in English is 0.0006277878737815959\n",
      "The prior of character   in English is 0.1792499586981662\n"
     ]
    }
   ],
   "source": [
    "#q2\n",
    "theta_e = [np.log((x+alpha)/(sum(list(english.values()))+len(list(english.values()))*alpha)) for x in list(english.values())]\n",
    "for i in range(len(theta_e)):\n",
    "    print(\"The prior of character\", list(english.keys())[i], \"in English is\", np.exp(theta_e[i]))"
   ]
  },
  {
   "cell_type": "code",
   "execution_count": 255,
   "metadata": {},
   "outputs": [
    {
     "name": "stdout",
     "output_type": "stream",
     "text": [
      "The prior of character a in Japanese is 0.13176561025891886\n",
      "The prior of character b in Japanese is 0.010866906600510153\n",
      "The prior of character c in Japanese is 0.005485866033054964\n",
      "The prior of character d in Japanese is 0.01722631818022992\n",
      "The prior of character e in Japanese is 0.060204759076138224\n",
      "The prior of character f in Japanese is 0.0038785422271917264\n",
      "The prior of character g in Japanese is 0.014011670568503437\n",
      "The prior of character h in Japanese is 0.03176211607673224\n",
      "The prior of character i in Japanese is 0.09703343932352632\n",
      "The prior of character j in Japanese is 0.0023411020650616725\n",
      "The prior of character k in Japanese is 0.05740941332681086\n",
      "The prior of character l in Japanese is 0.0014326146965302766\n",
      "The prior of character m in Japanese is 0.039798735106048436\n",
      "The prior of character n in Japanese is 0.05671057688947901\n",
      "The prior of character o in Japanese is 0.09116321324993887\n",
      "The prior of character p in Japanese is 0.0008735455466648029\n",
      "The prior of character q in Japanese is 0.00010482546559977636\n",
      "The prior of character r in Japanese is 0.04280373178657535\n",
      "The prior of character s in Japanese is 0.0421747789929767\n",
      "The prior of character t in Japanese is 0.05699011146441176\n",
      "The prior of character u in Japanese is 0.0706174219923827\n",
      "The prior of character v in Japanese is 0.000244592753066145\n",
      "The prior of character w in Japanese is 0.01974212935462455\n",
      "The prior of character x in Japanese is 3.494182186659214e-05\n",
      "The prior of character y in Japanese is 0.01415143785596981\n",
      "The prior of character z in Japanese is 0.00772214263251686\n",
      "The prior of character   in Japanese is 0.12344945665466998\n",
      "The prior of character a in Spanish is 0.1045604514199377\n",
      "The prior of character b in Spanish is 0.00823286361814313\n",
      "The prior of character c in Spanish is 0.03752582405722919\n",
      "The prior of character d in Spanish is 0.039745922111559924\n",
      "The prior of character e in Spanish is 0.11381085997964913\n",
      "The prior of character f in Spanish is 0.00860287996053159\n",
      "The prior of character g in Spanish is 0.007184483981375844\n",
      "The prior of character h in Spanish is 0.00453270019425858\n",
      "The prior of character i in Spanish is 0.04985970213684437\n",
      "The prior of character j in Spanish is 0.006629459467793161\n",
      "The prior of character k in Spanish is 0.0002775122567913414\n",
      "The prior of character l in Spanish is 0.05294317165674819\n",
      "The prior of character m in Spanish is 0.02580863988159477\n",
      "The prior of character n in Spanish is 0.054176559464709693\n",
      "The prior of character o in Spanish is 0.07249236841293824\n",
      "The prior of character p in Spanish is 0.024266905121642868\n",
      "The prior of character q in Spanish is 0.007677839104560452\n",
      "The prior of character r in Spanish is 0.05929511886775\n",
      "The prior of character s in Spanish is 0.06577040485954797\n",
      "The prior of character t in Spanish is 0.03561407295488883\n",
      "The prior of character u in Spanish is 0.0337023218525485\n",
      "The prior of character v in Spanish is 0.005889426783016252\n",
      "The prior of character w in Spanish is 9.250408559711385e-05\n",
      "The prior of character x in Spanish is 0.0024976103111220742\n",
      "The prior of character y in Spanish is 0.007862847275754679\n",
      "The prior of character z in Spanish is 0.002682618482316303\n",
      "The prior of character   in Spanish is 0.16826493170115014\n"
     ]
    }
   ],
   "source": [
    "#q3\n",
    "theta_j = [np.log((x+alpha)/(sum(list(japanese.values()))+len(list(japanese.values()))*alpha))for x in list(japanese.values())]\n",
    "for i in range(len(theta_j)):\n",
    "    print(\"The prior of character\", list(japanese.keys())[i], \"in Japanese is\", np.exp(theta_j[i]))\n",
    "\n",
    "theta_s = [np.log((x+alpha)/(sum(list(spanish.values()))+len(list(spanish.values()))*alpha)) for x in list(spanish.values())]\n",
    "for i in range(len(theta_s)):\n",
    "    print(\"The prior of character\", list(spanish.keys())[i], \"in Spanish is\", np.exp(theta_s[i]))\n"
   ]
  },
  {
   "cell_type": "code",
   "execution_count": 256,
   "metadata": {},
   "outputs": [
    {
     "name": "stdout",
     "output_type": "stream",
     "text": [
      "{'a': 164, 'b': 32, 'c': 53, 'd': 57, 'e': 311, 'f': 55, 'g': 51, 'h': 140, 'i': 140, 'j': 3, 'k': 6, 'l': 85, 'm': 64, 'n': 139, 'o': 182, 'p': 53, 'q': 3, 'r': 141, 's': 186, 't': 225, 'u': 65, 'v': 31, 'w': 47, 'x': 4, 'y': 38, 'z': 2, ' ': 498}\n"
     ]
    }
   ],
   "source": [
    "#q4\n",
    "e10  = {char: 0 for char in string.ascii_lowercase + ' '}\n",
    "with open(\"./languageID/e10.txt\") as f:\n",
    "    for line in f:\n",
    "        for character in line:\n",
    "            if(character in list(english.keys())):\n",
    "                e10[character] = e10[character] + 1\n",
    "\n",
    "print(e10)\n",
    "e10 = list(e10.values())"
   ]
  },
  {
   "cell_type": "code",
   "execution_count": 257,
   "metadata": {},
   "outputs": [
    {
     "name": "stdout",
     "output_type": "stream",
     "text": [
      "P(x|y=e) = exp(-7841.865447060635)\n",
      "P(x|y=j) = exp(-8771.433079075032)\n",
      "P(x|y=s) = exp(-8467.282044010557)\n"
     ]
    }
   ],
   "source": [
    "#q5\n",
    "likelihood_e = 0\n",
    "for i in range(len(theta_e)):\n",
    "    likelihood_e = likelihood_e + (e10[i]*theta_e[i])\n",
    "\n",
    "likelihood_j = 0\n",
    "for i in range(len(theta_j)):\n",
    "    likelihood_j = likelihood_j + (e10[i]*theta_j[i])\n",
    "\n",
    "likelihood_s = 0\n",
    "for i in range(len(theta_s)):\n",
    "    likelihood_s = likelihood_s + (e10[i]*theta_s[i])  \n",
    "\n",
    "print(\"P(x|y=e) = exp(\", likelihood_e , \")\", sep=\"\")\n",
    "print(\"P(x|y=j) = exp(\", likelihood_j , \")\", sep=\"\")\n",
    "print(\"P(x|y=s) = exp(\", likelihood_s , \")\", sep=\"\")"
   ]
  },
  {
   "cell_type": "code",
   "execution_count": 258,
   "metadata": {},
   "outputs": [
    {
     "name": "stdout",
     "output_type": "stream",
     "text": [
      "The predicted label for e10.txt is English\n",
      "The predicted label for e11.txt is English\n",
      "The predicted label for e12.txt is English\n",
      "The predicted label for e13.txt is English\n",
      "The predicted label for e14.txt is English\n",
      "The predicted label for e15.txt is English\n",
      "The predicted label for e16.txt is English\n",
      "The predicted label for e17.txt is English\n",
      "The predicted label for e18.txt is English\n",
      "The predicted label for e19.txt is English\n",
      "The predicted label for j10.txt is Japanese\n",
      "The predicted label for j11.txt is Japanese\n",
      "The predicted label for j12.txt is Japanese\n",
      "The predicted label for j13.txt is Japanese\n",
      "The predicted label for j14.txt is Japanese\n",
      "The predicted label for j15.txt is Japanese\n",
      "The predicted label for j16.txt is Japanese\n",
      "The predicted label for j17.txt is Japanese\n",
      "The predicted label for j18.txt is Japanese\n",
      "The predicted label for j19.txt is Japanese\n",
      "The predicted label for s10.txt is Spanish\n",
      "The predicted label for s11.txt is Spanish\n",
      "The predicted label for s12.txt is Spanish\n",
      "The predicted label for s13.txt is Spanish\n",
      "The predicted label for s14.txt is Spanish\n",
      "The predicted label for s15.txt is Spanish\n",
      "The predicted label for s16.txt is Spanish\n",
      "The predicted label for s17.txt is Spanish\n",
      "The predicted label for s18.txt is Spanish\n",
      "The predicted label for s19.txt is Spanish\n",
      "{'english': 10, 'japanese': 0, 'spanish': 0} {'english': 0, 'japanese': 10, 'spanish': 0} {'english': 0, 'japanese': 0, 'spanish': 10}\n"
     ]
    }
   ],
   "source": [
    "#q7\n",
    "path = \"./languageID/\"\n",
    "files = [\"e{}.txt\".format(i) for i in range(10,20)] + [\"j{}.txt\".format(i) for i in range(10,20)] + [\"s{}.txt\".format(i) for i in range(10,20)]\n",
    "english_confusion = {\"english\":0, \"japanese\":0,\"spanish\":0}\n",
    "japanese_confusion = {\"english\":0, \"japanese\":0,\"spanish\":0}\n",
    "spanish_confusion = {\"english\":0, \"japanese\":0,\"spanish\":0}\n",
    "test  = {char: 0 for char in string.ascii_lowercase + ' '}\n",
    "for file in files: \n",
    "    file_path = f\"{path}{file}\"\n",
    "    with open(file_path) as f:\n",
    "        for line in f:\n",
    "            for character in line:\n",
    "                if(character in list(english.keys())):\n",
    "                    test[character] = test[character] + 1\n",
    "    test = list(test.values())\n",
    "    likelihood_e = 0\n",
    "    for i in range(len(theta_e)):\n",
    "        likelihood_e = likelihood_e + (test[i]*theta_e[i])\n",
    "    likelihood_j = 0\n",
    "    for i in range(len(theta_j)):\n",
    "        likelihood_j = likelihood_j + (test[i]*theta_j[i])\n",
    "    likelihood_s = 0\n",
    "    for i in range(len(theta_s)):\n",
    "        likelihood_s = likelihood_s + (test[i]*theta_s[i])  \n",
    "    if(likelihood_e == max((likelihood_e,likelihood_j,likelihood_s))):\n",
    "        if(file.startswith('e')):\n",
    "            english_confusion[\"english\"] = english_confusion[\"english\"] + 1\n",
    "        elif(file.startswith('s')):\n",
    "            spanish_confusion[\"english\"] = spanish_confusion[\"english\"] + 1\n",
    "        else:\n",
    "            japanese_confusion[\"english\"] = japanese_confusion[\"english\"] + 1\n",
    "        print(\"The predicted label for\", file, \"is English\") \n",
    "    elif(likelihood_j == max((likelihood_e,likelihood_j,likelihood_s))):\n",
    "        if(file.startswith('e')):\n",
    "            english_confusion[\"japanese\"] = english_confusion[\"japanese\"] + 1\n",
    "        elif(file.startswith('s')):\n",
    "            spanish_confusion[\"japanese\"] = spanish_confusion[\"japanese\"] + 1\n",
    "        else:\n",
    "            japanese_confusion[\"japanese\"] = japanese_confusion[\"japanese\"] + 1\n",
    "        print(\"The predicted label for\", file, \"is Japanese\") \n",
    "    else:\n",
    "        if(file.startswith('e')):\n",
    "            english_confusion[\"spanish\"] = english_confusion[\"spanish\"] + 1\n",
    "        elif(file.startswith('s')):\n",
    "            spanish_confusion[\"spanish\"] = spanish_confusion[\"spanish\"] + 1\n",
    "        else:\n",
    "            japanese_confusion[\"spanish\"] = japanese_confusion[\"spanish\"] + 1\n",
    "        print(\"The predicted label for\", file, \"is Spanish\")                     \n",
    "    test  = {char: 0 for char in string.ascii_lowercase + ' '}\n",
    "\n",
    "print(english_confusion,japanese_confusion, spanish_confusion)"
   ]
  }
 ],
 "metadata": {
  "kernelspec": {
   "display_name": "Python 3",
   "language": "python",
   "name": "python3"
  },
  "language_info": {
   "codemirror_mode": {
    "name": "ipython",
    "version": 3
   },
   "file_extension": ".py",
   "mimetype": "text/x-python",
   "name": "python",
   "nbconvert_exporter": "python",
   "pygments_lexer": "ipython3",
   "version": "3.9.6"
  }
 },
 "nbformat": 4,
 "nbformat_minor": 2
}
